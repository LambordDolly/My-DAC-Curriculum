{
 "cells": [
  {
   "cell_type": "markdown",
   "metadata": {},
   "source": [
    "1. Create a new Jupyter notebook (.ipynb file).\n",
    "\n",
    "2. Save the notebook with the name of the topic (e.g., DAC-001-Intro-to-Python_Tutorial.ipynb) in the respective folder of the topic, in your repository in VSCode (My-DAC-Curriculum).\n",
    "3. Solve each tutorial question (listed below) in separate cells of the notebook.\n",
    "4. Save and Push your changes to your forked GitHub repository."
   ]
  },
  {
   "cell_type": "markdown",
   "metadata": {},
   "source": [
    "#Question 1: Lists\n",
    "Task:\n",
    "(a) Create a list named fruits with the items \"apple\", \"orange\", and \"banana\".\n",
    "(b) Add \"tomato\" to the end of the fruits list.\n",
    "(c) Remove \"apple\" from the fruits list."
   ]
  },
  {
   "cell_type": "code",
   "execution_count": 6,
   "metadata": {},
   "outputs": [
    {
     "name": "stdout",
     "output_type": "stream",
     "text": [
      "['apple', 'orange', 'banana']\n"
     ]
    }
   ],
   "source": [
    "# a) Create a list named fruits with the items \"apple\", \"orange\", and \"banana\".\n",
    "fruits=[\"apple\",'orange','banana']\n",
    "print(fruits)"
   ]
  },
  {
   "cell_type": "code",
   "execution_count": 7,
   "metadata": {},
   "outputs": [
    {
     "name": "stdout",
     "output_type": "stream",
     "text": [
      "['apple', 'orange', 'banana', 'tomato']\n"
     ]
    }
   ],
   "source": [
    "# b) Add \"tomato\" to the end of the fruits list.\n",
    "fruits.append(\"tomato\")\n",
    "print(fruits)"
   ]
  },
  {
   "cell_type": "code",
   "execution_count": 8,
   "metadata": {},
   "outputs": [
    {
     "name": "stdout",
     "output_type": "stream",
     "text": [
      "['orange', 'banana', 'tomato']\n"
     ]
    }
   ],
   "source": [
    "# c) Remove \"apple\" from the fruits list.\n",
    "fruits.remove('apple')\n",
    "print(fruits)"
   ]
  },
  {
   "cell_type": "markdown",
   "metadata": {},
   "source": [
    "Question 2: Tuples\n",
    "Task:\n",
    "(a) Create a tuple named subjects with the following elements: \"physics\", \"chemistry\", \"english\", \"math\", and \"biology\".\n",
    "(b) Attempt to append \"literature\" to the tuple and observe the result. Suggest an alternative way to add an element to a tuple.\n",
    "(c) Count the number of elements in the subjects tuple."
   ]
  },
  {
   "cell_type": "code",
   "execution_count": 9,
   "metadata": {},
   "outputs": [
    {
     "name": "stdout",
     "output_type": "stream",
     "text": [
      "('physics', 'chemistry', 'english', 'math', 'biology')\n"
     ]
    }
   ],
   "source": [
    "# (a) Create a tuple named subjects with the following elements: c.\n",
    "majors=(\"physics\", \"chemistry\", \"english\", \"math\", \"biology\")\n",
    "print(majors)"
   ]
  },
  {
   "cell_type": "code",
   "execution_count": 10,
   "metadata": {},
   "outputs": [
    {
     "name": "stdout",
     "output_type": "stream",
     "text": [
      "['physics', 'chemistry', 'english', 'math', 'biology', 'literature']\n"
     ]
    }
   ],
   "source": [
    "# (b) Attempt to append \"literature\" to the tuple and observe the result. Suggest an alternative way to add an element to a tuple.\n",
    "list_majors=list(majors)\n",
    "list_majors.append(\"literature\")\n",
    "print(list_majors)"
   ]
  },
  {
   "cell_type": "code",
   "execution_count": 18,
   "metadata": {},
   "outputs": [
    {
     "name": "stdout",
     "output_type": "stream",
     "text": [
      "6\n"
     ]
    }
   ],
   "source": [
    "# (c) Count the number of elements in the subjects tuple.\n",
    "del len\n",
    "length_of_majors=len(majors)\n",
    "print(length_of_majors)"
   ]
  },
  {
   "cell_type": "markdown",
   "metadata": {},
   "source": [
    "Question 3: Sorting Lists\n",
    "Task:\n",
    "(a) Create a list named students_id with the values [10, 6, 7, 8, 9, 3].\n",
    "(b) Sort the list in descending order and reinitialize it as sorted_students_id.\n",
    "(c) Remove all elements from the sorted_students_id list.\n"
   ]
  },
  {
   "cell_type": "code",
   "execution_count": 25,
   "metadata": {},
   "outputs": [
    {
     "name": "stdout",
     "output_type": "stream",
     "text": [
      "[3, 6, 7, 8, 9, 10]\n",
      "[10, 9, 8, 7, 6, 3]\n",
      "[]\n"
     ]
    }
   ],
   "source": [
    "# (a) Create a list named students_id with the values [10, 6, 7, 8, 9, 3].\n",
    "student_ID=[10, 6, 7, 8, 9, 3]\n",
    "# (b) Sort the list in descending order and reinitialize it as sorted_students_id.\n",
    "sorted_students_ID=sorted(student_ID)\n",
    "print(sorted_students_ID)\n",
    "sorted_students_ID.reverse()\n",
    "print(sorted_students_ID)\n",
    "\n",
    "# (c) Remove all elements from the sorted_students_id list.\n",
    "sorted_students_ID.clear()\n",
    "print(sorted_students_ID)\n"
   ]
  },
  {
   "cell_type": "code",
   "execution_count": 27,
   "metadata": {},
   "outputs": [
    {
     "name": "stdout",
     "output_type": "stream",
     "text": [
      "[15, 12, 9, 6, 3]\n"
     ]
    }
   ],
   "source": [
    "# Question 4: Generating Lists\n",
    "## Task:\n",
    "## Generate a list of numbers starting from 15 and decreasing by 3 each step, until the number is positive (not inclusive of zero). \n",
    "## Store it in a variable named desc_list.\n",
    "desc_list=list(range(15,0,-3))\n",
    "print(desc_list)\n"
   ]
  },
  {
   "cell_type": "code",
   "execution_count": 29,
   "metadata": {},
   "outputs": [
    {
     "name": "stdout",
     "output_type": "stream",
     "text": [
      "[2, 4, 6, 8, 10, 12, 14, 16, 18, 20, 22, 24, 26, 28]\n"
     ]
    }
   ],
   "source": [
    "# Question 5: Generating Lists\n",
    "## Task:\n",
    "## Generate a list of numbers starting from 2, increasing by 2 each step, until the list contains 14 elements. \n",
    "## Store it in a variable named asc_list.\n",
    "asc_list=[]\n",
    "for i in range(1,15): ## i is the position in the list\n",
    "    asc_list.append(2*i)\n",
    "\n",
    "print(asc_list)\n",
    "    \n"
   ]
  },
  {
   "cell_type": "code",
   "execution_count": 32,
   "metadata": {},
   "outputs": [
    {
     "name": "stdout",
     "output_type": "stream",
     "text": [
      "[15, 12, 9, 6, 3, 2, 4, 6, 8, 10, 12, 14, 16, 18, 20, 22, 24, 26, 28]\n",
      "Odd numbers: [15, 9, 3]\n",
      "Even numbers: [12, 6, 2, 4, 6, 8, 10, 12, 14, 16, 18, 20, 22, 24, 26, 28]\n"
     ]
    }
   ],
   "source": [
    "# Question 6: Combining and Separating Lists\n",
    "## Task:\n",
    "## Combine the lists generated in Questions 4 and 5 into a single list named combined_list.\n",
    "combined_list=desc_list+asc_list\n",
    "print(combined_list)\n",
    "## Separate the even and odd numbers from combined_list into two separate lists: even_numbers and odd_numbers.\n",
    "odd_numbers=[]\n",
    "even_numbers=[]\n",
    "\n",
    "for num in combined_list:\n",
    "    if num % 2==0:\n",
    "        even_numbers.append(num)\n",
    "    else:\n",
    "        odd_numbers.append(num)\n",
    "\n",
    "print(\"Odd numbers:\" , odd_numbers)\n",
    "print(\"Even numbers:\", even_numbers)\n",
    "    \n",
    "\n"
   ]
  },
  {
   "cell_type": "code",
   "execution_count": 33,
   "metadata": {},
   "outputs": [
    {
     "name": "stdout",
     "output_type": "stream",
     "text": [
      "Area: 314.1592653589793\n",
      "Circumfence: 62.83185307179586\n"
     ]
    }
   ],
   "source": [
    "# Question 7: Functions\n",
    "## Task:\n",
    "## Create a function circle_properties(radius) that takes in the radius of a circle and returns both the area and circumference.\n",
    "import math\n",
    "def circle_properties(radius):\n",
    "    area = math.pi * (radius ** 2)\n",
    "    circumfence = 2 * math.pi * radius\n",
    "    return area, circumfence\n",
    "\n",
    "radius = 10\n",
    "area, circumfence = circle_properties(radius)\n",
    "print(f\"Area: {area}\")\n",
    "print(f\"Circumfence: {circumfence}\")"
   ]
  },
  {
   "cell_type": "code",
   "execution_count": 35,
   "metadata": {},
   "outputs": [
    {
     "name": "stdout",
     "output_type": "stream",
     "text": [
      "Question: Will I pass all exams\n",
      "Answers: yes\n"
     ]
    }
   ],
   "source": [
    "# Question 8: Custom Function\n",
    "## Task:\n",
    "## Define a function that performs a task you find interesting. Demonstrate how this function works.\n",
    "import random\n",
    "def manifesting():\n",
    "    responses=['yes','of course','you deserve it'\n",
    "               'why not','work hard pays off',\n",
    "               'yassss']\n",
    "    return random.choice(responses)\n",
    "\n",
    "Question= \"Will I pass all exams?\"\n",
    "Answer= manifesting()\n",
    "\n",
    "print(f\"Question: {Question}\")\n",
    "print(f\"Answers: {Answer}\")\n"
   ]
  },
  {
   "cell_type": "code",
   "execution_count": 38,
   "metadata": {},
   "outputs": [
    {
     "name": "stdout",
     "output_type": "stream",
     "text": [
      "{'Alice': 85, 'Bob': 90, 'Charlie': 78}\n",
      "{'Alice': 88, 'Bob': 90, 'Charlie': 78, 'David': 92}\n"
     ]
    }
   ],
   "source": [
    "# Question 9: Creating and Manipulating Dictionaries\n",
    "## Task:\n",
    "## (a) Create a dictionary named student_grades with the following keys and values: \"Alice\": 85, \"Bob\": 90, and \"Charlie\": 78.\n",
    "student_grades = {\n",
    "    \"Alice\": 85,\n",
    "    \"Bob\": 90,\n",
    "    \"Charlie\": 78\n",
    "}\n",
    "print(student_grades)\n",
    "## (b) Add a new student, \"David\", with a grade of 92 to the student_grades dictionary.\n",
    "student_grades[\"David\"]=92\n",
    "## (c) Update \"Alice\"'s grade to 88.\n",
    "student_grades['Alice']=88\n",
    "print(student_grades)"
   ]
  },
  {
   "cell_type": "code",
   "execution_count": 42,
   "metadata": {},
   "outputs": [
    {
     "name": "stdout",
     "output_type": "stream",
     "text": [
      "['apple', 'banana', 'apple', 'orange', 'banana', 'apple']\n"
     ]
    },
    {
     "data": {
      "text/plain": [
       "{'apple': 3, 'banana': 2, 'orange': 1}"
      ]
     },
     "execution_count": 42,
     "metadata": {},
     "output_type": "execute_result"
    }
   ],
   "source": [
    "# Question 10: Using Dictionaries to Count Occurrences\n",
    "## Task:\n",
    "## Given the list of fruits [\"apple\", \"banana\", \"apple\", \"orange\", \"banana\", \"apple\"]\n",
    "## create a dictionary named fruit_count that counts the number of times each fruit appears in the list.\n",
    "fruits_list=[\"apple\", \"banana\", \"apple\", \"orange\", \"banana\", \"apple\"]\n",
    "print(fruits_list)\n",
    "\n",
    "fruit_count={}\n",
    "for fruit in fruits_list:\n",
    "    if fruit in fruit_count:\n",
    "        fruit_count[fruit]+=1\n",
    "    else: fruit_count[fruit]=1\n",
    "\n",
    "fruit_count"
   ]
  },
  {
   "cell_type": "code",
   "execution_count": null,
   "metadata": {},
   "outputs": [],
   "source": []
  }
 ],
 "metadata": {
  "kernelspec": {
   "display_name": "base",
   "language": "python",
   "name": "python3"
  },
  "language_info": {
   "codemirror_mode": {
    "name": "ipython",
    "version": 3
   },
   "file_extension": ".py",
   "mimetype": "text/x-python",
   "name": "python",
   "nbconvert_exporter": "python",
   "pygments_lexer": "ipython3",
   "version": "3.11.4"
  }
 },
 "nbformat": 4,
 "nbformat_minor": 2
}
